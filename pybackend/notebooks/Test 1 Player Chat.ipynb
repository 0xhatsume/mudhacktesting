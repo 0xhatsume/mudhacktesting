{
 "cells": [
  {
   "cell_type": "code",
   "execution_count": 26,
   "id": "83413c8c",
   "metadata": {},
   "outputs": [],
   "source": [
    "# Concept from LangChain: https://python.langchain.com/en/latest/use_cases/agent_simulations/two_player_dnd.html\n",
    "import sys\n",
    "import os\n",
    "sys.path.append(os.path.dirname(os.getcwd()))"
   ]
  },
  {
   "cell_type": "code",
   "execution_count": 27,
   "id": "9a329e96",
   "metadata": {},
   "outputs": [],
   "source": [
    "from srv.chatlibs.dialogue_agent import DialogueAgent"
   ]
  },
  {
   "cell_type": "code",
   "execution_count": 45,
   "id": "b579a466",
   "metadata": {},
   "outputs": [],
   "source": [
    "from srv.chatlibs.dialogue_sim import DialogueSimulator"
   ]
  },
  {
   "cell_type": "code",
   "execution_count": 46,
   "id": "dcd9ed83",
   "metadata": {},
   "outputs": [],
   "source": [
    "from srv.chatlibs.image_generator import ImageGenerator"
   ]
  },
  {
   "cell_type": "code",
   "execution_count": 28,
   "id": "7d67e963",
   "metadata": {},
   "outputs": [],
   "source": [
    "from dotenv import load_dotenv, find_dotenv"
   ]
  },
  {
   "cell_type": "code",
   "execution_count": 29,
   "id": "9b35aa60",
   "metadata": {},
   "outputs": [
    {
     "data": {
      "text/plain": [
       "True"
      ]
     },
     "execution_count": 29,
     "metadata": {},
     "output_type": "execute_result"
    }
   ],
   "source": [
    "load_dotenv(find_dotenv())"
   ]
  },
  {
   "cell_type": "code",
   "execution_count": 30,
   "id": "03e823a7",
   "metadata": {},
   "outputs": [],
   "source": [
    "from langchain.schema import (\n",
    "    HumanMessage,\n",
    "    SystemMessage,\n",
    ")"
   ]
  },
  {
   "cell_type": "code",
   "execution_count": 36,
   "id": "0bccf9cc",
   "metadata": {},
   "outputs": [],
   "source": [
    "from langchain.chat_models import ChatOpenAI"
   ]
  },
  {
   "cell_type": "code",
   "execution_count": 66,
   "id": "1ec12d96",
   "metadata": {},
   "outputs": [],
   "source": [
    "from IPython import display"
   ]
  },
  {
   "cell_type": "markdown",
   "id": "cd4e124b",
   "metadata": {},
   "source": [
    "===== Init Lang Vars ====="
   ]
  },
  {
   "cell_type": "code",
   "execution_count": 34,
   "id": "46959c9b",
   "metadata": {},
   "outputs": [
    {
     "data": {
      "text/plain": [
       "'Here is the topic for a Dungeons & Dragons game: Rick is missing, you need to fix portal gun to find him..\\n        There is one player in this game: the protagonist, Morty.\\n        The story is narrated by the storyteller, Dungeon Master.'"
      ]
     },
     "execution_count": 34,
     "metadata": {},
     "output_type": "execute_result"
    }
   ],
   "source": [
    "# system message for story teller (dungeon master)\n",
    "# (using HumanMessage)\n",
    "protagonist_name = \"Morty\"\n",
    "storyteller_name = \"Dungeon Master\"\n",
    "quest = \"Rick is missing, you need to fix portal gun to find him.\"\n",
    "word_limit = 50\n",
    "\n",
    "game_description = f\"\"\"Here is the topic for a Dungeons & Dragons game: {quest}.\n",
    "        There is one player in this game: the protagonist, {protagonist_name}.\n",
    "        The story is narrated by the storyteller, {storyteller_name}.\"\"\"\n",
    "\n",
    "game_description"
   ]
  },
  {
   "cell_type": "code",
   "execution_count": 35,
   "id": "832fcf89",
   "metadata": {},
   "outputs": [
    {
     "data": {
      "text/plain": [
       "HumanMessage(content='Here is the topic for a Dungeons & Dragons game: Rick is missing, you need to fix portal gun to find him..\\n        There is one player in this game: the protagonist, Morty.\\n        The story is narrated by the storyteller, Dungeon Master.\\nPlease reply with a creative description of the storyteller, Dungeon Master, in 50 words or less. \\nSpeak directly to Dungeon Master.\\nDo not add anything else.\\n', additional_kwargs={}, example=False)"
      ]
     },
     "execution_count": 35,
     "metadata": {},
     "output_type": "execute_result"
    }
   ],
   "source": [
    "game_message_desc = HumanMessage(content=\n",
    "            f\"\"\"{game_description}\n",
    "Please reply with a creative description of the storyteller, {storyteller_name}, in {word_limit} words or less. \n",
    "Speak directly to {storyteller_name}.\n",
    "Do not add anything else.\n",
    "\"\"\")\n",
    "game_message_desc"
   ]
  },
  {
   "cell_type": "code",
   "execution_count": 38,
   "id": "9f9dced7",
   "metadata": {},
   "outputs": [
    {
     "data": {
      "text/plain": [
       "SystemMessage(content='You can add detail to the description of a Dungeons & Dragons player.', additional_kwargs={})"
      ]
     },
     "execution_count": 38,
     "metadata": {},
     "output_type": "execute_result"
    }
   ],
   "source": [
    "player_descriptor_system_message = SystemMessage(\n",
    "    content=\"You can add detail to the description of a Dungeons & Dragons player.\")\n",
    "player_descriptor_system_message"
   ]
  },
  {
   "cell_type": "code",
   "execution_count": 39,
   "id": "1dcdc5b0",
   "metadata": {},
   "outputs": [],
   "source": [
    "prompts = []\n",
    "prompts.append(player_descriptor_system_message)\n",
    "prompts.append(game_message_desc)"
   ]
  },
  {
   "cell_type": "code",
   "execution_count": 49,
   "id": "8059ad37",
   "metadata": {},
   "outputs": [
    {
     "data": {
      "text/plain": [
       "[SystemMessage(content='You can add detail to the description of a Dungeons & Dragons player.', additional_kwargs={}),\n",
       " HumanMessage(content='Here is the topic for a Dungeons & Dragons game: Rick is missing, you need to fix portal gun to find him..\\n        There is one player in this game: the protagonist, Morty.\\n        The story is narrated by the storyteller, Dungeon Master.\\nPlease reply with a creative description of the storyteller, Dungeon Master, in 50 words or less. \\nSpeak directly to Dungeon Master.\\nDo not add anything else.\\n', additional_kwargs={}, example=False)]"
      ]
     },
     "execution_count": 49,
     "metadata": {},
     "output_type": "execute_result"
    }
   ],
   "source": [
    "prompts"
   ]
  },
  {
   "cell_type": "code",
   "execution_count": 42,
   "id": "d38de417",
   "metadata": {},
   "outputs": [
    {
     "data": {
      "text/plain": [
       "'Dungeon Master, you hold the fate of Morty in your hands. Your creative spirit and quick thinking are essential in weaving an epic tale that challenges and delights. Keep the imagination flowing, and watch as Morty braves through the dangers of portals to find his friend.'"
      ]
     },
     "execution_count": 42,
     "metadata": {},
     "output_type": "execute_result"
    }
   ],
   "source": [
    "c = ChatOpenAI(temperature=1.0)(prompts).content\n",
    "c"
   ]
  },
  {
   "cell_type": "code",
   "execution_count": 48,
   "id": "0c57e9a8",
   "metadata": {},
   "outputs": [],
   "source": [
    "generator = ImageGenerator(\n",
    "        os.environ.get(\"IMAGE_GENERATION_API_URL\"),\n",
    "        ChatOpenAI(temperature=0.8)\n",
    "                          )"
   ]
  },
  {
   "cell_type": "markdown",
   "id": "314661a5",
   "metadata": {},
   "source": [
    "===== 1. Init Quest Specific Description, Gen Quest Image ====="
   ]
  },
  {
   "cell_type": "code",
   "execution_count": null,
   "id": "3e8c70f4",
   "metadata": {},
   "outputs": [],
   "source": [
    "# 1a. Generate Specific Quest"
   ]
  },
  {
   "cell_type": "code",
   "execution_count": 79,
   "id": "3c16ed6a",
   "metadata": {},
   "outputs": [
    {
     "data": {
      "text/plain": [
       "\"Morty, to find Rick you must restore an ancient magical crystal in the deepest cave of the Neverend Mountains. Beware of the stealthy goblins and the treacherous ravines. Without the crystal, your portal gun won't function. The clock is ticking, haste is crucial in this dangerous adventure!\""
      ]
     },
     "execution_count": 79,
     "metadata": {},
     "output_type": "execute_result"
    }
   ],
   "source": [
    "questspecifics = ChatOpenAI(temperature=1.0)(\n",
    "\n",
    "    [\n",
    "        SystemMessage(content=\"You can make a task more specific.\"),\n",
    "        HumanMessage(content=\n",
    "            f\"\"\"{game_description}\n",
    "            \n",
    "            You are the storyteller, {storyteller_name}.\n",
    "            Please make the quest more specific. Be creative and imaginative.\n",
    "            Please reply with the specified quest in {word_limit} words or less. \n",
    "            Speak directly to the protagonist {protagonist_name}.\n",
    "            Do not add anything else.\"\"\"\n",
    "            )\n",
    "    ]\n",
    "\n",
    ")\n",
    "\n",
    "questspecifics.content"
   ]
  },
  {
   "cell_type": "code",
   "execution_count": 80,
   "id": "45959458",
   "metadata": {},
   "outputs": [
    {
     "data": {
      "text/plain": [
       "'A painting of Morty from Rick and Morty, with an ancient magical crystal, action of restoring, clean backdrop of the Neverend Mountains.'"
      ]
     },
     "execution_count": 80,
     "metadata": {},
     "output_type": "execute_result"
    }
   ],
   "source": [
    "# 1b. Get Image Prompt for Quest Specifc\n",
    "imageprompt = generator.generate_image_prompt(protagonist_name, questspecifics.content)\n",
    "# note: character name is appended with \"from rick and morty\"\n",
    "imageprompt"
   ]
  },
  {
   "cell_type": "code",
   "execution_count": 81,
   "id": "2e675fde",
   "metadata": {
    "scrolled": true
   },
   "outputs": [
    {
     "data": {
      "image/jpeg": "[encoded data removed]",
      "text/plain": [
       "<IPython.core.display.Image object>"
      ]
     },
     "execution_count": 81,
     "metadata": {},
     "output_type": "execute_result"
    }
   ],
   "source": [
    "# 1c. Generate image for Quest Specific\n",
    "questImage64 = generator.generate_image(imageprompt)\n",
    "display.Image(questImage64)"
   ]
  },
  {
   "cell_type": "markdown",
   "id": "b5355dfe",
   "metadata": {},
   "source": [
    "===== 2. Create Characters ====="
   ]
  },
  {
   "cell_type": "code",
   "execution_count": 96,
   "id": "732bec70",
   "metadata": {},
   "outputs": [
    {
     "name": "stdout",
     "output_type": "stream",
     "text": [
      "Dear Dungeon Master, as you narrate the adventures of Morty in his quest to find Rick, your voice booms with authority, yet imbued with a mischievous twinkle in your eye. Your passion for storytelling is evident in the way you bring every character to life, making us all feel like we are part of this fantastical world.\n",
      "\n",
      "\n",
      "verbose=False callbacks=None callback_manager=None client=<class 'openai.api_resources.chat_completion.ChatCompletion'> model_name='gpt-3.5-turbo' temperature=0.2 model_kwargs={} openai_api_key=None openai_api_base=None openai_organization=None request_timeout=None max_retries=6 streaming=False n=1 max_tokens=None\n"
     ]
    }
   ],
   "source": [
    "# 2a create Dungeon Master\n",
    "prompts = []\n",
    "prompts.append(player_descriptor_system_message)\n",
    "prompts.append(\n",
    "    HumanMessage(content=f\"\"\"{game_description}\n",
    "Please reply with a creative description of the storyteller, {storyteller_name}, in {word_limit} words or less. \n",
    "Speak directly to {storyteller_name}.\n",
    "Do not add anything else.\n",
    "\"\"\")\n",
    ")\n",
    "\n",
    "dm_system_message = ChatOpenAI(temperature=1.0)(prompts).content\n",
    "print(dm_system_message)\n",
    "\n",
    "dm_agent = DialogueAgent(\n",
    "    name=storyteller_name,\n",
    "    system_message=dm_system_message,\n",
    "    model=ChatOpenAI(temperature=0.2)\n",
    ")\n",
    "\n",
    "print()\n",
    "print()\n",
    "print(dm_agent.model)"
   ]
  },
  {
   "cell_type": "code",
   "execution_count": 97,
   "id": "6dfe2278",
   "metadata": {},
   "outputs": [
    {
     "name": "stdout",
     "output_type": "stream",
     "text": [
      "Morty, you're a timid yet curious adventurer with a heart of gold. Your loyalty to your loved ones often makes you underestimate your own abilities. Will you overcome your fears to save your friend Rick? The fate of the multiverse rests upon your shoulders.\n",
      "\n",
      "\n",
      "verbose=False callbacks=None callback_manager=None client=<class 'openai.api_resources.chat_completion.ChatCompletion'> model_name='gpt-3.5-turbo' temperature=0.2 model_kwargs={} openai_api_key=None openai_api_base=None openai_organization=None request_timeout=None max_retries=6 streaming=False n=1 max_tokens=None\n"
     ]
    }
   ],
   "source": [
    "# 2b. create Protoganist\n",
    "\n",
    "prompts = []\n",
    "prompts.append(player_descriptor_system_message)\n",
    "prompts.append(\n",
    "    HumanMessage(content=\n",
    "            f\"\"\"\n",
    "{game_description}\n",
    "Please reply with a creative description of the protagonist, {protagonist_name}, in {word_limit} words or less. \n",
    "Speak directly to {protagonist_name}.\n",
    "Do not add anything else.            \n",
    "\"\"\")\n",
    ")\n",
    "\n",
    "protoganist_system_message = ChatOpenAI(temperature=1.0)(prompts).content\n",
    "print(protoganist_system_message)\n",
    "\n",
    "\n",
    "protoganist_agent = DialogueAgent(\n",
    "    name=storyteller_name,\n",
    "    system_message=protoganist_system_message,\n",
    "    model=ChatOpenAI(temperature=0.2)\n",
    ")\n",
    "\n",
    "\n",
    "print()\n",
    "print()\n",
    "print(protoganist_agent.model)"
   ]
  },
  {
   "cell_type": "code",
   "execution_count": 98,
   "id": "35c37c5b",
   "metadata": {},
   "outputs": [],
   "source": [
    "# 2c. init Dialogue Sim\n",
    "# Dialogue Sim Object here just provides a function to inject replied story message to Agents in Character List\n",
    "character_list = [dm_agent, protoganist_agent]\n",
    "simulator = DialogueSimulator(character_list)"
   ]
  },
  {
   "cell_type": "markdown",
   "id": "6a29a9cc",
   "metadata": {},
   "source": [
    "===== 3. Start Convos ====="
   ]
  },
  {
   "cell_type": "code",
   "execution_count": 99,
   "id": "fd152c37",
   "metadata": {},
   "outputs": [
    {
     "data": {
      "text/plain": [
       "\"Morty, to find Rick you must restore an ancient magical crystal in the deepest cave of the Neverend Mountains. Beware of the stealthy goblins and the treacherous ravines. Without the crystal, your portal gun won't function. The clock is ticking, haste is crucial in this dangerous adventure!\""
      ]
     },
     "execution_count": 99,
     "metadata": {},
     "output_type": "execute_result"
    }
   ],
   "source": [
    "# 3a. Inject Specific Quest To Start\n",
    "simulator.reset()\n",
    "simulator.inject(storyteller_name, questspecifics.content)\n",
    "questspecifics.content"
   ]
  },
  {
   "cell_type": "code",
   "execution_count": 101,
   "id": "6cd4fefa",
   "metadata": {},
   "outputs": [
    {
     "data": {
      "text/plain": [
       "\"It's already midday, Morty. You better hurry if you want to make it to the cave before nightfall. The journey is long and perilous. Are you sure you're ready for this?\""
      ]
     },
     "execution_count": 101,
     "metadata": {},
     "output_type": "execute_result"
    }
   ],
   "source": [
    "# Convo here is altered to start with User/Protoganist so that\n",
    "# DM can reply its reaction\n",
    "# 1st Inject Dialogue Sim with User message \n",
    "# Then 2nd Inject Dialogue Sim with \n",
    "simulator.inject(protagonist_name, \"I am ready. What time is it now?\")\n",
    "responded_narrative = dm_agent.send() # send will feed entire message history so far so that AI completes the rest\n",
    "\n",
    "simulator.inject(storyteller_name, responded_narrative)\n",
    "\n",
    "responded_narrative"
   ]
  },
  {
   "cell_type": "code",
   "execution_count": 102,
   "id": "dabb05ce",
   "metadata": {},
   "outputs": [
    {
     "data": {
      "text/plain": [
       "\"As you take off in Rick's ship, you can feel the wind rushing past you and the hum of the engines vibrating through the metal floor. The map shows a winding path through the mountains, with several possible routes to take. You'll need to make quick decisions and stay alert for any dangers that may arise. The journey ahead will test your courage and your wits. Are you ready, Morty?\""
      ]
     },
     "execution_count": 102,
     "metadata": {},
     "output_type": "execute_result"
    }
   ],
   "source": [
    "# Convo here is altered to start with User/Protoganist so that\n",
    "# DM can reply its reaction\n",
    "# 1st Inject Dialogue Sim with User message \n",
    "# Then 2nd Inject Dialogue Sim with \n",
    "simulator.inject(protagonist_name, \"I have hurried over to Rick's garage and acquired the map to Neverend Mountains. Taking his ship\")\n",
    "responded_narrative = dm_agent.send() # send will feed entire message history so far so that AI completes the rest\n",
    "\n",
    "simulator.inject(storyteller_name, responded_narrative)\n",
    "\n",
    "responded_narrative"
   ]
  },
  {
   "cell_type": "markdown",
   "id": "c4bd93eb",
   "metadata": {},
   "source": [
    "===== 4. Print Diagnostics ====="
   ]
  },
  {
   "cell_type": "code",
   "execution_count": 104,
   "id": "79ece364",
   "metadata": {},
   "outputs": [
    {
     "data": {
      "text/plain": [
       "['Here is the conversation so far.',\n",
       " \"Dungeon Master: Morty, to find Rick you must restore an ancient magical crystal in the deepest cave of the Neverend Mountains. Beware of the stealthy goblins and the treacherous ravines. Without the crystal, your portal gun won't function. The clock is ticking, haste is crucial in this dangerous adventure!\",\n",
       " 'Morty: I am ready. What time is it now?',\n",
       " \"Dungeon Master: It's already midday, Morty. You better hurry if you want to make it to the cave before nightfall. The journey is long and perilous. Are you sure you're ready for this?\",\n",
       " \"Morty: I have hurried over to Rick's garage and acquired the map to Neverend Mountains. Taking his ship\",\n",
       " \"Dungeon Master: As you take off in Rick's ship, you can feel the wind rushing past you and the hum of the engines vibrating through the metal floor. The map shows a winding path through the mountains, with several possible routes to take. You'll need to make quick decisions and stay alert for any dangers that may arise. The journey ahead will test your courage and your wits. Are you ready, Morty?\"]"
      ]
     },
     "execution_count": 104,
     "metadata": {},
     "output_type": "execute_result"
    }
   ],
   "source": [
    "simulator.agents[0].message_history"
   ]
  }
 ],
 "metadata": {
  "kernelspec": {
   "display_name": "Python 3 (ipykernel)",
   "language": "python",
   "name": "python3"
  },
  "language_info": {
   "codemirror_mode": {
    "name": "ipython",
    "version": 3
   },
   "file_extension": ".py",
   "mimetype": "text/x-python",
   "name": "python",
   "nbconvert_exporter": "python",
   "pygments_lexer": "ipython3",
   "version": "3.9.13"
  }
 },
 "nbformat": 4,
 "nbformat_minor": 5
}
