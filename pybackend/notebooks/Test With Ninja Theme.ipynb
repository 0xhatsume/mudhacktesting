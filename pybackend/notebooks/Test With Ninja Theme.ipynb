{
 "cells": [
  {
   "cell_type": "code",
   "execution_count": 1,
   "id": "83413c8c",
   "metadata": {},
   "outputs": [],
   "source": [
    "# Concept from LangChain: https://python.langchain.com/en/latest/use_cases/agent_simulations/two_player_dnd.html\n",
    "import sys\n",
    "import os\n",
    "sys.path.append(os.path.dirname(os.getcwd()))"
   ]
  },
  {
   "cell_type": "code",
   "execution_count": 2,
   "id": "9a329e96",
   "metadata": {},
   "outputs": [],
   "source": [
    "from srv.chatlibs.dialogue_agent import DialogueAgent"
   ]
  },
  {
   "cell_type": "code",
   "execution_count": 3,
   "id": "b579a466",
   "metadata": {},
   "outputs": [],
   "source": [
    "from srv.chatlibs.dialogue_sim import DialogueSimulator"
   ]
  },
  {
   "cell_type": "code",
   "execution_count": 4,
   "id": "dcd9ed83",
   "metadata": {},
   "outputs": [],
   "source": [
    "from srv.chatlibs.image_generator2 import ImageGenerator"
   ]
  },
  {
   "cell_type": "code",
   "execution_count": 5,
   "id": "7d67e963",
   "metadata": {},
   "outputs": [],
   "source": [
    "from dotenv import load_dotenv, find_dotenv"
   ]
  },
  {
   "cell_type": "code",
   "execution_count": 6,
   "id": "9b35aa60",
   "metadata": {},
   "outputs": [
    {
     "data": {
      "text/plain": [
       "True"
      ]
     },
     "execution_count": 6,
     "metadata": {},
     "output_type": "execute_result"
    }
   ],
   "source": [
    "load_dotenv(find_dotenv())"
   ]
  },
  {
   "cell_type": "code",
   "execution_count": 7,
   "id": "03e823a7",
   "metadata": {},
   "outputs": [],
   "source": [
    "from langchain.schema import (\n",
    "    HumanMessage,\n",
    "    SystemMessage,\n",
    ")"
   ]
  },
  {
   "cell_type": "code",
   "execution_count": 8,
   "id": "0bccf9cc",
   "metadata": {},
   "outputs": [],
   "source": [
    "from langchain.chat_models import ChatOpenAI"
   ]
  },
  {
   "cell_type": "code",
   "execution_count": 9,
   "id": "1ec12d96",
   "metadata": {},
   "outputs": [],
   "source": [
    "from IPython import display"
   ]
  },
  {
   "cell_type": "markdown",
   "id": "cd4e124b",
   "metadata": {},
   "source": [
    "===== Init Lang Vars ====="
   ]
  },
  {
   "cell_type": "code",
   "execution_count": 10,
   "id": "46959c9b",
   "metadata": {},
   "outputs": [
    {
     "data": {
      "text/plain": [
       "'Here is the topic for a Dungeons & Dragons game: Defeat the Legendary 13 Tail Monster to free the village of the fate of obliteration. \\nThis is a Naruto themed quest set in a Naruto-themed village in a large world consisting of many ninja villages spanning across 9 continents..\\n        There is one player in this game: the protagonist, Ninja 1.\\n        The story is narrated by the storyteller, Dungeon Master.'"
      ]
     },
     "execution_count": 10,
     "metadata": {},
     "output_type": "execute_result"
    }
   ],
   "source": [
    "# system message for story teller (dungeon master)\n",
    "# (using HumanMessage)\n",
    "protagonist_name = \"Ninja 1\"\n",
    "storyteller_name = \"Dungeon Master\"\n",
    "quest = \"\"\"Defeat the Legendary 13 Tail Monster to free the village of the fate of obliteration. \n",
    "This is a Naruto themed quest set in a Naruto-themed village in a large world consisting of many ninja villages spanning across 9 continents.\"\"\"\n",
    "word_limit = 50\n",
    "\n",
    "game_description = f\"\"\"Here is the topic for a Dungeons & Dragons game: {quest}.\n",
    "        There is one player in this game: the protagonist, {protagonist_name}.\n",
    "        The story is narrated by the storyteller, {storyteller_name}.\"\"\"\n",
    "\n",
    "game_description"
   ]
  },
  {
   "cell_type": "code",
   "execution_count": 11,
   "id": "832fcf89",
   "metadata": {},
   "outputs": [
    {
     "data": {
      "text/plain": [
       "HumanMessage(content='Here is the topic for a Dungeons & Dragons game: Defeat the Legendary 13 Tail Monster to free the village of the fate of obliteration. \\nThis is a Naruto themed quest set in a Naruto-themed village in a large world consisting of many ninja villages spanning across 9 continents..\\n        There is one player in this game: the protagonist, Ninja 1.\\n        The story is narrated by the storyteller, Dungeon Master.\\nPlease reply with a creative description of the storyteller, Dungeon Master, in 50 words or less. \\nSpeak directly to Dungeon Master.\\nDo not add anything else.\\n', additional_kwargs={}, example=False)"
      ]
     },
     "execution_count": 11,
     "metadata": {},
     "output_type": "execute_result"
    }
   ],
   "source": [
    "game_message_desc = HumanMessage(content=\n",
    "            f\"\"\"{game_description}\n",
    "Please reply with a creative description of the storyteller, {storyteller_name}, in {word_limit} words or less. \n",
    "Speak directly to {storyteller_name}.\n",
    "Do not add anything else.\n",
    "\"\"\")\n",
    "game_message_desc"
   ]
  },
  {
   "cell_type": "code",
   "execution_count": 12,
   "id": "9f9dced7",
   "metadata": {},
   "outputs": [
    {
     "data": {
      "text/plain": [
       "SystemMessage(content='You can add detail to the description of a Dungeons & Dragons player.', additional_kwargs={})"
      ]
     },
     "execution_count": 12,
     "metadata": {},
     "output_type": "execute_result"
    }
   ],
   "source": [
    "player_descriptor_system_message = SystemMessage(\n",
    "    content=\"You can add detail to the description of a Dungeons & Dragons player.\")\n",
    "player_descriptor_system_message"
   ]
  },
  {
   "cell_type": "code",
   "execution_count": 13,
   "id": "1dcdc5b0",
   "metadata": {},
   "outputs": [],
   "source": [
    "prompts = []\n",
    "prompts.append(player_descriptor_system_message)\n",
    "prompts.append(game_message_desc)"
   ]
  },
  {
   "cell_type": "code",
   "execution_count": 14,
   "id": "8059ad37",
   "metadata": {},
   "outputs": [
    {
     "data": {
      "text/plain": [
       "[SystemMessage(content='You can add detail to the description of a Dungeons & Dragons player.', additional_kwargs={}),\n",
       " HumanMessage(content='Here is the topic for a Dungeons & Dragons game: Defeat the Legendary 13 Tail Monster to free the village of the fate of obliteration. \\nThis is a Naruto themed quest set in a Naruto-themed village in a large world consisting of many ninja villages spanning across 9 continents..\\n        There is one player in this game: the protagonist, Ninja 1.\\n        The story is narrated by the storyteller, Dungeon Master.\\nPlease reply with a creative description of the storyteller, Dungeon Master, in 50 words or less. \\nSpeak directly to Dungeon Master.\\nDo not add anything else.\\n', additional_kwargs={}, example=False)]"
      ]
     },
     "execution_count": 14,
     "metadata": {},
     "output_type": "execute_result"
    }
   ],
   "source": [
    "prompts"
   ]
  },
  {
   "cell_type": "code",
   "execution_count": 15,
   "id": "d38de417",
   "metadata": {},
   "outputs": [
    {
     "data": {
      "text/plain": [
       "'Dungeon Master, you are the weaver of tales, the bringer of adventure, and the master of the game. Your voice booms with excitement and intensity as you guide Ninja 1 through the dangerous yet thrilling world of the Naruto universe. Will you be the one to guide Ninja 1 to victory?'"
      ]
     },
     "execution_count": 15,
     "metadata": {},
     "output_type": "execute_result"
    }
   ],
   "source": [
    "c = ChatOpenAI(temperature=1.0)(prompts).content\n",
    "c"
   ]
  },
  {
   "cell_type": "code",
   "execution_count": 16,
   "id": "0c57e9a8",
   "metadata": {},
   "outputs": [],
   "source": [
    "generator = ImageGenerator(\n",
    "        os.environ.get(\"IMAGE_GENERATION_API_URL\"),\n",
    "        ChatOpenAI(temperature=0.8)\n",
    "                          )"
   ]
  },
  {
   "cell_type": "markdown",
   "id": "314661a5",
   "metadata": {},
   "source": [
    "===== 1. Init Quest Specific Description, Gen Quest Image ====="
   ]
  },
  {
   "cell_type": "code",
   "execution_count": null,
   "id": "3e8c70f4",
   "metadata": {},
   "outputs": [],
   "source": [
    "# 1a. Generate Specific Quest"
   ]
  },
  {
   "cell_type": "code",
   "execution_count": 17,
   "id": "3c16ed6a",
   "metadata": {},
   "outputs": [
    {
     "data": {
      "text/plain": [
       "'Ninja 1, you must retrieve the Seal of the 13 Tails from the Forbidden Forest before the legendary monster awakens. You have three days to find it and defeat the monster, or the village will be destroyed. Be warned, the forest is guarded by powerful creatures and your actions have consequences.'"
      ]
     },
     "execution_count": 17,
     "metadata": {},
     "output_type": "execute_result"
    }
   ],
   "source": [
    "questspecifics = ChatOpenAI(temperature=1.0)(\n",
    "\n",
    "    [\n",
    "        SystemMessage(content=\"You can make a task more specific.\"),\n",
    "        HumanMessage(content=\n",
    "            f\"\"\"{game_description}\n",
    "            \n",
    "            You are the storyteller, {storyteller_name}.\n",
    "            Please make the quest more specific. Be creative and imaginative.\n",
    "            Please reply with the specified quest in {word_limit} words or less. \n",
    "            Speak directly to the protagonist {protagonist_name}.\n",
    "            Do not add anything else.\"\"\"\n",
    "            )\n",
    "    ]\n",
    "\n",
    ")\n",
    "\n",
    "questspecifics.content"
   ]
  },
  {
   "cell_type": "code",
   "execution_count": 18,
   "id": "45959458",
   "metadata": {},
   "outputs": [
    {
     "data": {
      "text/plain": [
       "\"A painting of the Ninja 1 from the Universe of Naruto, with the Seal of the 13 Tails clutched tightly in hand, sneaking cautiously through the twisted trees of the Forbidden Forest. The air is thick with tension, and every rustle of leaves sends shivers down Ninja 1's spine. Suddenly, a powerful creature leaps out from the shadows, ready to attack.\""
      ]
     },
     "execution_count": 18,
     "metadata": {},
     "output_type": "execute_result"
    }
   ],
   "source": [
    "# 1b. Get Image Prompt for Quest Specifc\n",
    "imageprompt = generator.generate_image_prompt(protagonist_name, questspecifics.content)\n",
    "# note: character name is appended with \"from rick and morty\"\n",
    "imageprompt"
   ]
  },
  {
   "cell_type": "code",
   "execution_count": 19,
   "id": "2e675fde",
   "metadata": {
    "scrolled": true
   },
   "outputs": [
    {
     "data": {
      "image/jpeg": "[encoded data removed]",
      "text/plain": [
       "<IPython.core.display.Image object>"
      ]
     },
     "execution_count": 19,
     "metadata": {},
     "output_type": "execute_result"
    }
   ],
   "source": [
    "# 1c. Generate image for Quest Specific\n",
    "questImage64 = generator.generate_image(imageprompt)\n",
    "display.Image(questImage64)"
   ]
  },
  {
   "cell_type": "markdown",
   "id": "b5355dfe",
   "metadata": {},
   "source": [
    "===== 2. Create Characters ====="
   ]
  },
  {
   "cell_type": "code",
   "execution_count": 20,
   "id": "732bec70",
   "metadata": {},
   "outputs": [
    {
     "name": "stdout",
     "output_type": "stream",
     "text": [
      "Dungeon Master, you are the mastermind behind the story - a creative and imaginative storyteller who knows just how to weave an intricate tale that keeps Ninja 1 on the edge of their seat. Your voice is commanding, your descriptions vivid, and your world-building unparalleled.\n",
      "\n",
      "\n",
      "verbose=False callbacks=None callback_manager=None client=<class 'openai.api_resources.chat_completion.ChatCompletion'> model_name='gpt-3.5-turbo' temperature=0.2 model_kwargs={} openai_api_key=None openai_api_base=None openai_organization=None request_timeout=None max_retries=6 streaming=False n=1 max_tokens=None\n"
     ]
    }
   ],
   "source": [
    "# 2a create Dungeon Master\n",
    "prompts = []\n",
    "prompts.append(player_descriptor_system_message)\n",
    "prompts.append(\n",
    "    HumanMessage(content=f\"\"\"{game_description}\n",
    "Please reply with a creative description of the storyteller, {storyteller_name}, in {word_limit} words or less. \n",
    "Speak directly to {storyteller_name}.\n",
    "Do not add anything else.\n",
    "\"\"\")\n",
    ")\n",
    "\n",
    "dm_system_message = ChatOpenAI(temperature=1.0)(prompts).content\n",
    "print(dm_system_message)\n",
    "\n",
    "dm_agent = DialogueAgent(\n",
    "    name=storyteller_name,\n",
    "    system_message=dm_system_message,\n",
    "    model=ChatOpenAI(temperature=0.2)\n",
    ")\n",
    "\n",
    "print()\n",
    "print()\n",
    "print(dm_agent.model)"
   ]
  },
  {
   "cell_type": "code",
   "execution_count": 21,
   "id": "6dfe2278",
   "metadata": {},
   "outputs": [
    {
     "name": "stdout",
     "output_type": "stream",
     "text": [
      "\"Ninja 1, you emanate a quiet confidence that draws others towards you. Underneath the cool exterior is a powerful will, honed by years of arduous training. You possess an unwavering sense of duty towards your village - and the fate of your people rests on your shoulders today.\"\n",
      "\n",
      "\n",
      "verbose=False callbacks=None callback_manager=None client=<class 'openai.api_resources.chat_completion.ChatCompletion'> model_name='gpt-3.5-turbo' temperature=0.2 model_kwargs={} openai_api_key=None openai_api_base=None openai_organization=None request_timeout=None max_retries=6 streaming=False n=1 max_tokens=None\n"
     ]
    }
   ],
   "source": [
    "# 2b. create Protoganist\n",
    "\n",
    "prompts = []\n",
    "prompts.append(player_descriptor_system_message)\n",
    "prompts.append(\n",
    "    HumanMessage(content=\n",
    "            f\"\"\"\n",
    "{game_description}\n",
    "Please reply with a creative description of the protagonist, {protagonist_name}, in {word_limit} words or less. \n",
    "Speak directly to {protagonist_name}.\n",
    "Do not add anything else.            \n",
    "\"\"\")\n",
    ")\n",
    "\n",
    "protoganist_system_message = ChatOpenAI(temperature=1.0)(prompts).content\n",
    "print(protoganist_system_message)\n",
    "\n",
    "\n",
    "protoganist_agent = DialogueAgent(\n",
    "    name=storyteller_name,\n",
    "    system_message=protoganist_system_message,\n",
    "    model=ChatOpenAI(temperature=0.2)\n",
    ")\n",
    "\n",
    "\n",
    "print()\n",
    "print()\n",
    "print(protoganist_agent.model)"
   ]
  },
  {
   "cell_type": "code",
   "execution_count": 22,
   "id": "35c37c5b",
   "metadata": {},
   "outputs": [],
   "source": [
    "# 2c. init Dialogue Sim\n",
    "# Dialogue Sim Object here just provides a function to inject replied story message to Agents in Character List\n",
    "character_list = [dm_agent, protoganist_agent]\n",
    "simulator = DialogueSimulator(character_list)"
   ]
  },
  {
   "cell_type": "markdown",
   "id": "6a29a9cc",
   "metadata": {},
   "source": [
    "===== 3. Start Convos ====="
   ]
  },
  {
   "cell_type": "code",
   "execution_count": 23,
   "id": "fd152c37",
   "metadata": {},
   "outputs": [
    {
     "data": {
      "text/plain": [
       "'Ninja 1, you must retrieve the Seal of the 13 Tails from the Forbidden Forest before the legendary monster awakens. You have three days to find it and defeat the monster, or the village will be destroyed. Be warned, the forest is guarded by powerful creatures and your actions have consequences.'"
      ]
     },
     "execution_count": 23,
     "metadata": {},
     "output_type": "execute_result"
    }
   ],
   "source": [
    "# 3a. Inject Specific Quest To Start\n",
    "simulator.reset()\n",
    "simulator.inject(storyteller_name, questspecifics.content)\n",
    "questspecifics.content"
   ]
  },
  {
   "cell_type": "code",
   "execution_count": 24,
   "id": "04db61bd",
   "metadata": {},
   "outputs": [
    {
     "data": {
      "text/plain": [
       "['Here is the conversation so far.',\n",
       " 'Dungeon Master: Ninja 1, you must retrieve the Seal of the 13 Tails from the Forbidden Forest before the legendary monster awakens. You have three days to find it and defeat the monster, or the village will be destroyed. Be warned, the forest is guarded by powerful creatures and your actions have consequences.']"
      ]
     },
     "execution_count": 24,
     "metadata": {},
     "output_type": "execute_result"
    }
   ],
   "source": [
    "simulator.agents[0].message_history"
   ]
  },
  {
   "cell_type": "code",
   "execution_count": 25,
   "id": "6cd4fefa",
   "metadata": {},
   "outputs": [
    {
     "data": {
      "text/plain": [
       "'Your travel bag contains a grappling hook, a set of throwing knives, a small vial of healing potion, a map of the Forbidden Forest, and a compass. Use them wisely, Ninja 1. The forest is treacherous and full of surprises.'"
      ]
     },
     "execution_count": 25,
     "metadata": {},
     "output_type": "execute_result"
    }
   ],
   "source": [
    "# Convo here is altered to start with User/Protoganist so that\n",
    "# DM can reply its reaction\n",
    "# 1st Inject Dialogue Sim with User message \n",
    "# Then 2nd Inject Dialogue Sim with \n",
    "simulator.inject(protagonist_name, \"I am ready. First what items are in my travel bag?\")\n",
    "responded_narrative = dm_agent.send() # send will feed entire message history so far so that AI completes the rest\n",
    "\n",
    "simulator.inject(storyteller_name, responded_narrative)\n",
    "\n",
    "responded_narrative"
   ]
  },
  {
   "cell_type": "code",
   "execution_count": 26,
   "id": "dabb05ce",
   "metadata": {},
   "outputs": [
    {
     "data": {
      "text/plain": [
       "'You are skilled in the art of stealth and can move silently through the forest. You also have knowledge of the Shadow Clone Jutsu, which allows you to create multiple copies of yourself to confuse and distract your enemies. Use your skills and Jutsu wisely, Ninja 1. The fate of the village rests on your success.'"
      ]
     },
     "execution_count": 26,
     "metadata": {},
     "output_type": "execute_result"
    }
   ],
   "source": [
    "# Convo here is altered to start with User/Protoganist so that\n",
    "# DM can reply its reaction\n",
    "# 1st Inject Dialogue Sim with User message \n",
    "# Then 2nd Inject Dialogue Sim with \n",
    "simulator.inject(protagonist_name, \"And what skill or Jitsu do I know?\")\n",
    "responded_narrative = dm_agent.send() # send will feed entire message history so far so that AI completes the rest\n",
    "\n",
    "simulator.inject(storyteller_name, responded_narrative)\n",
    "\n",
    "responded_narrative"
   ]
  },
  {
   "cell_type": "code",
   "execution_count": 27,
   "id": "deb084bc",
   "metadata": {},
   "outputs": [
    {
     "data": {
      "text/plain": [
       "'You are a highly skilled and experienced ninja, ranked as a Jōnin. You have been chosen for this mission because of your exceptional abilities and bravery. But even the most skilled ninja can fall in the face of danger, so be cautious and stay alert at all times. Good luck, Ninja 1. The fate of the village is in your hands.'"
      ]
     },
     "execution_count": 27,
     "metadata": {},
     "output_type": "execute_result"
    }
   ],
   "source": [
    "# Convo here is altered to start with User/Protoganist so that\n",
    "# DM can reply its reaction\n",
    "# 1st Inject Dialogue Sim with User message \n",
    "# Then 2nd Inject Dialogue Sim with \n",
    "simulator.inject(protagonist_name, \"What rank of ninja am I?\")\n",
    "responded_narrative = dm_agent.send() # send will feed entire message history so far so that AI completes the rest\n",
    "\n",
    "simulator.inject(storyteller_name, responded_narrative)\n",
    "\n",
    "responded_narrative"
   ]
  },
  {
   "cell_type": "code",
   "execution_count": 28,
   "id": "db9b34a2",
   "metadata": {},
   "outputs": [
    {
     "data": {
      "text/plain": [
       "'As you make your way deeper into the forest, you come across a group of bandits who are blocking your path. They are armed with swords and seem to be looking for trouble. What do you do, Ninja 1?'"
      ]
     },
     "execution_count": 28,
     "metadata": {},
     "output_type": "execute_result"
    }
   ],
   "source": [
    "# Convo here is altered to start with User/Protoganist so that\n",
    "# DM can reply its reaction\n",
    "# 1st Inject Dialogue Sim with User message \n",
    "# Then 2nd Inject Dialogue Sim with \n",
    "simulator.inject(protagonist_name, \"Alright. I hurry off into the forest insearch for the 13 Tail. But who do I see first?\")\n",
    "responded_narrative = dm_agent.send() # send will feed entire message history so far so that AI completes the rest\n",
    "\n",
    "simulator.inject(storyteller_name, responded_narrative)\n",
    "\n",
    "responded_narrative"
   ]
  },
  {
   "cell_type": "code",
   "execution_count": 29,
   "id": "73cff876",
   "metadata": {},
   "outputs": [
    {
     "data": {
      "text/plain": [
       "'You create three shadow clones, each one identical to you in appearance and abilities. The bandits are taken aback by the sudden appearance of multiple ninjas and are momentarily stunned. This gives you and your clones the opportunity to attack. Roll the dice to determine the success of your attack.'"
      ]
     },
     "execution_count": 29,
     "metadata": {},
     "output_type": "execute_result"
    }
   ],
   "source": [
    "# Convo here is altered to start with User/Protoganist so that\n",
    "# DM can reply its reaction\n",
    "# 1st Inject Dialogue Sim with User message \n",
    "# Then 2nd Inject Dialogue Sim with \n",
    "simulator.inject(protagonist_name, \"Since I just started off, I should have enough energy and Chakra to fight these bandits. Let me use my Shadow Clone Jutsu to fight them. How many clones did I make?\")\n",
    "responded_narrative = dm_agent.send() # send will feed entire message history so far so that AI completes the rest\n",
    "\n",
    "simulator.inject(storyteller_name, responded_narrative)\n",
    "\n",
    "responded_narrative"
   ]
  },
  {
   "cell_type": "markdown",
   "id": "c4bd93eb",
   "metadata": {},
   "source": [
    "===== 4. Print Diagnostics ====="
   ]
  },
  {
   "cell_type": "code",
   "execution_count": 30,
   "id": "79ece364",
   "metadata": {},
   "outputs": [
    {
     "data": {
      "text/plain": [
       "['Here is the conversation so far.',\n",
       " 'Dungeon Master: Ninja 1, you must retrieve the Seal of the 13 Tails from the Forbidden Forest before the legendary monster awakens. You have three days to find it and defeat the monster, or the village will be destroyed. Be warned, the forest is guarded by powerful creatures and your actions have consequences.',\n",
       " 'Ninja 1: I am ready. First what items are in my travel bag?',\n",
       " 'Dungeon Master: Your travel bag contains a grappling hook, a set of throwing knives, a small vial of healing potion, a map of the Forbidden Forest, and a compass. Use them wisely, Ninja 1. The forest is treacherous and full of surprises.',\n",
       " 'Ninja 1: And what skill or Jitsu do I know?',\n",
       " 'Dungeon Master: You are skilled in the art of stealth and can move silently through the forest. You also have knowledge of the Shadow Clone Jutsu, which allows you to create multiple copies of yourself to confuse and distract your enemies. Use your skills and Jutsu wisely, Ninja 1. The fate of the village rests on your success.',\n",
       " 'Ninja 1: What rank of ninja am I?',\n",
       " 'Dungeon Master: You are a highly skilled and experienced ninja, ranked as a Jōnin. You have been chosen for this mission because of your exceptional abilities and bravery. But even the most skilled ninja can fall in the face of danger, so be cautious and stay alert at all times. Good luck, Ninja 1. The fate of the village is in your hands.',\n",
       " 'Ninja 1: Alright. I hurry off into the forest insearch for the 13 Tail. But who do I see first?',\n",
       " 'Dungeon Master: As you make your way deeper into the forest, you come across a group of bandits who are blocking your path. They are armed with swords and seem to be looking for trouble. What do you do, Ninja 1?',\n",
       " 'Ninja 1: Since I just started off, I should have enough energy and Chakra to fight these bandits. Let me use my Shadow Clone Jutsu to fight them. How many clones did I make?',\n",
       " 'Dungeon Master: You create three shadow clones, each one identical to you in appearance and abilities. The bandits are taken aback by the sudden appearance of multiple ninjas and are momentarily stunned. This gives you and your clones the opportunity to attack. Roll the dice to determine the success of your attack.']"
      ]
     },
     "execution_count": 30,
     "metadata": {},
     "output_type": "execute_result"
    }
   ],
   "source": [
    "simulator.agents[0].message_history"
   ]
  }
 ],
 "metadata": {
  "kernelspec": {
   "display_name": "Python 3 (ipykernel)",
   "language": "python",
   "name": "python3"
  },
  "language_info": {
   "codemirror_mode": {
    "name": "ipython",
    "version": 3
   },
   "file_extension": ".py",
   "mimetype": "text/x-python",
   "name": "python",
   "nbconvert_exporter": "python",
   "pygments_lexer": "ipython3",
   "version": "3.9.13"
  }
 },
 "nbformat": 4,
 "nbformat_minor": 5
}
